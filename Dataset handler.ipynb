{
 "cells": [
  {
   "cell_type": "markdown",
   "metadata": {},
   "source": [
    "# Dataset Handler\n",
    "For the dataset \"fer2013\", convert the data to images, classify and output to certain label folders"
   ]
  },
  {
   "cell_type": "code",
   "execution_count": 1,
   "metadata": {},
   "outputs": [],
   "source": [
    "from os import makedirs\n",
    "from os.path import join, exists\n",
    "import numpy as np\n",
    "import csv\n",
    "from PIL import Image"
   ]
  },
  {
   "cell_type": "markdown",
   "metadata": {},
   "source": [
    "## Paths"
   ]
  },
  {
   "cell_type": "code",
   "execution_count": 2,
   "metadata": {},
   "outputs": [],
   "source": [
    "path = './dataset/fer2013/'\n",
    "csv_file = './dataset/fer2013/fer2013.csv'\n",
    "train_csv = join(path, 'train.csv')\n",
    "val_csv = join(path, 'val.csv')\n",
    "test_csv = join(path, 'test.csv')"
   ]
  },
  {
   "cell_type": "markdown",
   "metadata": {},
   "source": [
    "## Read and split data"
   ]
  },
  {
   "cell_type": "code",
   "execution_count": 3,
   "metadata": {},
   "outputs": [],
   "source": [
    "with open(csv_file) as f:\n",
    "    file = csv.reader(f)\n",
    "    header = next(file)\n",
    "    rows = [row for row in file]\n",
    "    \n",
    "    # iterate the list and check if the 'Usage' is 'Training', add label and data to list\n",
    "    train_set = [row[:-1] for row in rows if row[-1] == 'Training' or row[-1] == 'PublicTest']\n",
    "    csv.writer(open(train_csv, 'w+'), lineterminator='\\n').writerows([header[:-1]] + train_set)\n",
    "    \n",
    "#     val_set = [row[:-1] for row in rows if row[-1] == 'PublicTest']\n",
    "#     csv.writer(open(val_csv, 'w+'), lineterminator='\\n').writerows([header[:-1]] + val_set)\n",
    "    \n",
    "    test_set = [row[:-1] for row in rows if row[-1] == 'PrivateTest']\n",
    "    csv.writer(open(test_csv, 'w+'), lineterminator='\\n').writerows([header[:-1]] + test_set)"
   ]
  },
  {
   "cell_type": "code",
   "execution_count": 4,
   "metadata": {},
   "outputs": [
    {
     "name": "stdout",
     "output_type": "stream",
     "text": [
      "32298 3589\n"
     ]
    }
   ],
   "source": [
    "print(len(train_set), len(test_set))"
   ]
  },
  {
   "cell_type": "markdown",
   "metadata": {},
   "source": [
    "## Convert to images"
   ]
  },
  {
   "cell_type": "code",
   "execution_count": 5,
   "metadata": {},
   "outputs": [],
   "source": [
    "\"\"\"\n",
    "folder structure:\n",
    "-fer2013/\n",
    "    -train/\n",
    "        -0/\n",
    "        -1/\n",
    "        -2/\n",
    "        -3/\n",
    "        -4/\n",
    "        -5/\n",
    "        -6/\n",
    "    -val/\n",
    "        -0/\n",
    "        -1/\n",
    "        -2/\n",
    "        -3/\n",
    "        -4/\n",
    "        -5/\n",
    "        -6/\n",
    "    -test/\n",
    "        -0/\n",
    "        -1/\n",
    "        -2/\n",
    "        -3/\n",
    "        -4/\n",
    "        -5/\n",
    "        -6/\n",
    "\"\"\"\n",
    "\n",
    "train_set = join(path, 'train')\n",
    "val_set = join(path, 'val')\n",
    "test_set = join(path, 'test')\n",
    "\n",
    "# for save_path, csv_file in [(train_set, train_csv), (val_set, val_csv), (test_set, test_csv)]:\n",
    "for save_path, csv_file in [(train_set, train_csv), (test_set, test_csv)]:\n",
    "    # create subfolder of the three sets\n",
    "    if not exists(save_path):\n",
    "        makedirs(save_path)\n",
    "    \n",
    "    num = 1\n",
    "    with open(csv_file) as f:\n",
    "        csv_file = csv.reader(f)\n",
    "        header = next(csv_file)\n",
    "        \n",
    "        # convert pixels->np array->PIL image\n",
    "        for i, (label, pixel) in enumerate(csv_file):\n",
    "            # convert to array and reshape to 48x48\n",
    "            pixel = np.asarray([float(p) for p in pixel.split()]).reshape(48, 48)\n",
    "            \n",
    "            # create folders of labels\n",
    "            subfolder = join(save_path, label)\n",
    "            if not exists(subfolder):\n",
    "                makedirs(subfolder)\n",
    "                \n",
    "            # convert to PIL images, grayscale\n",
    "            image = Image.fromarray(pixel).convert('L')\n",
    "            \n",
    "            # set image names with i number\n",
    "            image_name = join(subfolder, '{:05d}.jpg'.format(i))\n",
    "            # print(image_name)\n",
    "            \n",
    "            # save images\n",
    "            image.save(image_name)"
   ]
  }
 ],
 "metadata": {
  "kernelspec": {
   "display_name": "Python 3",
   "language": "python",
   "name": "python3"
  },
  "language_info": {
   "codemirror_mode": {
    "name": "ipython",
    "version": 3
   },
   "file_extension": ".py",
   "mimetype": "text/x-python",
   "name": "python",
   "nbconvert_exporter": "python",
   "pygments_lexer": "ipython3",
   "version": "3.5.6"
  }
 },
 "nbformat": 4,
 "nbformat_minor": 2
}
